{
 "cells": [
  {
   "cell_type": "code",
   "execution_count": null,
   "metadata": {},
   "outputs": [],
   "source": [
    "Notebook to parse the daily workorder from Checklist.xlsx. <br>\n",
    "Currently working by slicing the cell by number basis.<br>\n",
    "ToDo: Modify according to the string parsing in file."
   ]
  },
  {
   "cell_type": "code",
   "execution_count": 1,
   "metadata": {
    "colab": {},
    "colab_type": "code",
    "id": "w5q8tWGNZoMf"
   },
   "outputs": [],
   "source": [
    "# pandas, used for data manipulation\n",
    "import pandas as pd"
   ]
  },
  {
   "cell_type": "code",
   "execution_count": 2,
   "metadata": {
    "colab": {},
    "colab_type": "code",
    "id": "JW0bitcGZoMj"
   },
   "outputs": [],
   "source": [
    "# to read the excel file, currently reading from pwd, or by absoulte path\n",
    "def file_read(file_name):\n",
    "    file = pd.ExcelFile(file_name+\".xlsx\")\n",
    "    print(file.sheet_names)\n",
    "    return file"
   ]
  },
  {
   "cell_type": "code",
   "execution_count": 3,
   "metadata": {
    "colab": {},
    "colab_type": "code",
    "id": "A4xCjaQmbCgJ"
   },
   "outputs": [],
   "source": [
    "# making a list of all the dataframes present.\n",
    "# a list of all the data from each sheet\n",
    "def df_list(file):\n",
    "    df =[]\n",
    "    for i in range(len(file.sheet_names)):\n",
    "          df.append(pd.read_excel(file,sheet_name = file.sheet_names[i]).T)\n",
    "    return df"
   ]
  },
  {
   "cell_type": "code",
   "execution_count": 4,
   "metadata": {},
   "outputs": [],
   "source": [
    "# to export the dataframe to json file\n",
    "def json_file(df,i):\n",
    "    df.to_json(str(\"../json_data/\"+file.sheet_names[i])+\".json\",orient='values')"
   ]
  },
  {
   "cell_type": "code",
   "execution_count": 5,
   "metadata": {
    "colab": {
     "base_uri": "https://localhost:8080/",
     "height": 399
    },
    "colab_type": "code",
    "id": "JLyYXa2CZoMl",
    "outputId": "21acac99-ce70-4858-e13d-75d4b64d232f"
   },
   "outputs": [
    {
     "name": "stdout",
     "output_type": "stream",
     "text": [
      "['DG Checklist', 'Chiller pump checklist', 'RMU Yard Check List', 'Transformer', 'LT Panels', 'Lift', 'FFS', 'Pump', 'DB Panel', 'LT Panel', 'Lift Panel', 'Chiller Panel', 'Street light', 'Inverter', 'FCU Unit', 'Split AC ', 'DG PM', 'Camera check list', 'Air Cooled Daily', 'Sheet1', 'Sheet2', 'NCCA report']\n"
     ]
    }
   ],
   "source": [
    "# reading the excel file\n",
    "# listing all the sheets present in the excel file\n",
    "file =file_read(\"Checklist\")"
   ]
  },
  {
   "cell_type": "code",
   "execution_count": 6,
   "metadata": {},
   "outputs": [],
   "source": [
    "# getting list of dataframes\n",
    "df =df_list(file)"
   ]
  },
  {
   "cell_type": "markdown",
   "metadata": {},
   "source": [
    "Mannual work"
   ]
  },
  {
   "cell_type": "code",
   "execution_count": 312,
   "metadata": {},
   "outputs": [],
   "source": [
    "# setting the sheet number.\n",
    "df_num =22"
   ]
  },
  {
   "cell_type": "code",
   "execution_count": 313,
   "metadata": {
    "colab": {},
    "colab_type": "code",
    "id": "gP28fz2ibqQc"
   },
   "outputs": [
    {
     "ename": "IndexError",
     "evalue": "list index out of range",
     "output_type": "error",
     "traceback": [
      "\u001b[1;31m---------------------------------------------------------------------------\u001b[0m",
      "\u001b[1;31mIndexError\u001b[0m                                Traceback (most recent call last)",
      "\u001b[1;32m<ipython-input-313-c8eddfc09812>\u001b[0m in \u001b[0;36m<module>\u001b[1;34m\u001b[0m\n\u001b[1;32m----> 1\u001b[1;33m \u001b[0mdg_checklist\u001b[0m \u001b[1;33m=\u001b[0m \u001b[0mdf\u001b[0m\u001b[1;33m[\u001b[0m\u001b[0mdf_num\u001b[0m\u001b[1;33m]\u001b[0m\u001b[1;33m\u001b[0m\u001b[1;33m\u001b[0m\u001b[0m\n\u001b[0m\u001b[0;32m      2\u001b[0m \u001b[0mprint\u001b[0m\u001b[1;33m(\u001b[0m\u001b[0mdg_checklist\u001b[0m\u001b[1;33m.\u001b[0m\u001b[0mshape\u001b[0m\u001b[1;33m)\u001b[0m\u001b[1;33m\u001b[0m\u001b[1;33m\u001b[0m\u001b[0m\n\u001b[0;32m      3\u001b[0m \u001b[0mdg_checklist\u001b[0m\u001b[1;33m.\u001b[0m\u001b[0mhead\u001b[0m\u001b[1;33m(\u001b[0m\u001b[1;36m5\u001b[0m\u001b[1;33m)\u001b[0m\u001b[1;33m\u001b[0m\u001b[1;33m\u001b[0m\u001b[0m\n",
      "\u001b[1;31mIndexError\u001b[0m: list index out of range"
     ]
    }
   ],
   "source": [
    "# taking one specific sheet at once\n",
    "# showing the shape of dataframe, to check for empty sheets\n",
    "# Printing the first 5 rows of the dataframe\n",
    "dg_checklist = df[df_num]\n",
    "print(dg_checklist.shape)\n",
    "dg_checklist.head(5)"
   ]
  },
  {
   "cell_type": "code",
   "execution_count": 306,
   "metadata": {
    "colab": {},
    "colab_type": "code",
    "id": "Q4bjh6bRb4L7"
   },
   "outputs": [],
   "source": [
    "# reading the data from 0th row, all column\n",
    "checklist = dg_checklist.iloc[0,:]"
   ]
  },
  {
   "cell_type": "code",
   "execution_count": 307,
   "metadata": {
    "colab": {},
    "colab_type": "code",
    "id": "l0LsmaTSb5xd"
   },
   "outputs": [],
   "source": [
    "# dropping all the NaN values from the dataframe\n",
    "checklist.dropna(inplace = True)"
   ]
  },
  {
   "cell_type": "code",
   "execution_count": 308,
   "metadata": {},
   "outputs": [
    {
     "data": {
      "text/plain": [
       "0                                     TAS/FMD/ENG/22/R0\n",
       "1                                                NC# 01\n",
       "3     NATURE OF COMPLAINT:-  EB TO DG Change Over is...\n",
       "4                                      CUSTOMER/PROJECT\n",
       "5     Description of Non Conformance: During EB powe...\n",
       "11    Root Cause Anaysis of NC:-(Why-Why Analysis):-...\n",
       "17                           CORRECTIVE ACTION PROPOSED\n",
       "18    We have reset all the alaram and start the ope...\n",
       "23                                 REVIEWED BY Mahendra\n",
       "24                                 AND DATE 30th Apr-19\n",
       "25    COMMENTS ON CORRECTIVE ACTIONS ARE IMPLEMENTED...\n",
       "29                               PREPARED BY:- Mahendra\n",
       "Name: NC/CA REPORT, dtype: object"
      ]
     },
     "execution_count": 308,
     "metadata": {},
     "output_type": "execute_result"
    }
   ],
   "source": [
    "# listing all the workorder titles\n",
    "checklist"
   ]
  },
  {
   "cell_type": "code",
   "execution_count": 309,
   "metadata": {
    "colab": {},
    "colab_type": "code",
    "id": "TpMSk5BKoe96"
   },
   "outputs": [],
   "source": [
    "# mannual slicing of the required attributes\n",
    "# iloc[start_index_ownwards,stop_index]\n",
    "checklist =checklist.iloc[2:25]"
   ]
  },
  {
   "cell_type": "code",
   "execution_count": 310,
   "metadata": {},
   "outputs": [
    {
     "data": {
      "text/plain": [
       "3     NATURE OF COMPLAINT:-  EB TO DG Change Over is...\n",
       "4                                      CUSTOMER/PROJECT\n",
       "5     Description of Non Conformance: During EB powe...\n",
       "11    Root Cause Anaysis of NC:-(Why-Why Analysis):-...\n",
       "17                           CORRECTIVE ACTION PROPOSED\n",
       "18    We have reset all the alaram and start the ope...\n",
       "23                                 REVIEWED BY Mahendra\n",
       "24                                 AND DATE 30th Apr-19\n",
       "25    COMMENTS ON CORRECTIVE ACTIONS ARE IMPLEMENTED...\n",
       "29                               PREPARED BY:- Mahendra\n",
       "Name: NC/CA REPORT, dtype: object"
      ]
     },
     "execution_count": 310,
     "metadata": {},
     "output_type": "execute_result"
    }
   ],
   "source": [
    "# the workorder title after slicing \n",
    "checklist"
   ]
  },
  {
   "cell_type": "code",
   "execution_count": 311,
   "metadata": {},
   "outputs": [],
   "source": [
    "# writing the sheet workorder to json file.\n",
    "json_file(checklist,df_num)"
   ]
  },
  {
   "cell_type": "markdown",
   "metadata": {
    "colab_type": "text",
    "id": "CotMrY64oUEy"
   },
   "source": [
    "All the sheets are not following same structure, hence one need to parse every sheet one by one,by current method."
   ]
  },
  {
   "cell_type": "markdown",
   "metadata": {},
   "source": [
    "Inverter checklist\n",
    "DG preventive maintence\n",
    "Camera checklist\n",
    "Air cooler chillar\n",
    "NC/CA report"
   ]
  }
 ],
 "metadata": {
  "colab": {
   "collapsed_sections": [],
   "name": "Checklist.ipynb",
   "provenance": []
  },
  "kernelspec": {
   "display_name": "Python 3",
   "language": "python",
   "name": "python3"
  },
  "language_info": {
   "codemirror_mode": {
    "name": "ipython",
    "version": 3
   },
   "file_extension": ".py",
   "mimetype": "text/x-python",
   "name": "python",
   "nbconvert_exporter": "python",
   "pygments_lexer": "ipython3",
   "version": "3.7.3"
  }
 },
 "nbformat": 4,
 "nbformat_minor": 1
}
