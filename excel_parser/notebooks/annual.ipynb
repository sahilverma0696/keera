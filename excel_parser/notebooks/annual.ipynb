{
 "cells": [
  {
   "cell_type": "markdown",
   "metadata": {},
   "source": [
    "Notebook to parse the 52 week planer.\n",
    "Currently working according to the cell positions."
   ]
  },
  {
   "cell_type": "code",
   "execution_count": 25,
   "metadata": {},
   "outputs": [],
   "source": [
    "# pandas for data manipulation\n",
    "# requests for posting the data\n",
    "import pandas as pd\n",
    "import requests"
   ]
  },
  {
   "cell_type": "markdown",
   "metadata": {},
   "source": [
    "Reading files and sheets"
   ]
  },
  {
   "cell_type": "code",
   "execution_count": 26,
   "metadata": {},
   "outputs": [],
   "source": [
    "# creating the excel file\n",
    "file = pd.ExcelFile(\"../excel_files/Summit 52 week PPM Schedule-2019.xlsx\")"
   ]
  },
  {
   "cell_type": "code",
   "execution_count": 27,
   "metadata": {},
   "outputs": [],
   "source": [
    "#making list of dataframe\n",
    "#reading from column 8 onwards, since privious were non-informative\n",
    "list_of_df = []\n",
    "for i in range(len(file.sheet_names)):\n",
    "    list_of_df.append(pd.read_excel(file,sheet_name = file.sheet_names[i],header =[2]).T.loc[:,8:])"
   ]
  },
  {
   "cell_type": "markdown",
   "metadata": {},
   "source": [
    "Cleaning the data "
   ]
  },
  {
   "cell_type": "code",
   "execution_count": 28,
   "metadata": {},
   "outputs": [
    {
     "name": "stdout",
     "output_type": "stream",
     "text": [
      "(67, 116)\n",
      "(58, 156)\n"
     ]
    }
   ],
   "source": [
    "for each_df in list_of_df:\n",
    "    print(each_df.shape)"
   ]
  },
  {
   "cell_type": "code",
   "execution_count": 29,
   "metadata": {},
   "outputs": [],
   "source": [
    "# working with the first dataframe \n",
    "first = list_of_df[1]"
   ]
  },
  {
   "cell_type": "code",
   "execution_count": 30,
   "metadata": {},
   "outputs": [],
   "source": [
    "# dropping all the rows and columns which are completly\n",
    "# rows\n",
    "for each_df in list_of_df:\n",
    "    each_df.dropna(axis =0,how ='all',inplace = True)\n",
    "# columns\n",
    "    each_df.dropna(axis =1,how ='all',inplace = True)"
   ]
  },
  {
   "cell_type": "code",
   "execution_count": 31,
   "metadata": {},
   "outputs": [
    {
     "name": "stdout",
     "output_type": "stream",
     "text": [
      "(58, 114)\n",
      "(58, 153)\n"
     ]
    }
   ],
   "source": [
    "for each_df in list_of_df:\n",
    "    print(each_df.shape)"
   ]
  },
  {
   "cell_type": "code",
   "execution_count": 32,
   "metadata": {},
   "outputs": [],
   "source": [
    "# adding index to the dataframes\n",
    "index =[]\n",
    "for _ in range(1,59):\n",
    "    index.append(_)"
   ]
  },
  {
   "cell_type": "code",
   "execution_count": 33,
   "metadata": {},
   "outputs": [],
   "source": [
    "for each_df in list_of_df:\n",
    "    each_df.index = index"
   ]
  },
  {
   "cell_type": "code",
   "execution_count": 34,
   "metadata": {},
   "outputs": [],
   "source": [
    "# replacing the tick with 1\n",
    "for each_df in list_of_df:\n",
    "    each_df.replace(to_replace='√', value=1, inplace=True)"
   ]
  },
  {
   "cell_type": "code",
   "execution_count": 35,
   "metadata": {
    "scrolled": false
   },
   "outputs": [],
   "source": [
    "# creating a list of list of list\n",
    "# 1. list -number of elements =number of sheets\n",
    "# 2. list - for each sheet\n",
    "# 3. list - each week\n",
    "dates = []\n",
    "for each_df in list_of_df:\n",
    "    date =[]\n",
    "    for each_column in (each_df):\n",
    "        index = each_df[each_column].index[each_df[each_column] ==1]\n",
    "        date.append(index)\n",
    "    dates.append(date)"
   ]
  },
  {
   "cell_type": "code",
   "execution_count": 36,
   "metadata": {},
   "outputs": [
    {
     "data": {
      "text/html": [
       "<div>\n",
       "<style scoped>\n",
       "    .dataframe tbody tr th:only-of-type {\n",
       "        vertical-align: middle;\n",
       "    }\n",
       "\n",
       "    .dataframe tbody tr th {\n",
       "        vertical-align: top;\n",
       "    }\n",
       "\n",
       "    .dataframe thead th {\n",
       "        text-align: right;\n",
       "    }\n",
       "</style>\n",
       "<table border=\"1\" class=\"dataframe\">\n",
       "  <thead>\n",
       "    <tr style=\"text-align: right;\">\n",
       "      <th></th>\n",
       "      <th>8</th>\n",
       "      <th>9</th>\n",
       "      <th>10</th>\n",
       "      <th>11</th>\n",
       "      <th>12</th>\n",
       "      <th>13</th>\n",
       "      <th>14</th>\n",
       "      <th>15</th>\n",
       "      <th>16</th>\n",
       "      <th>17</th>\n",
       "      <th>...</th>\n",
       "      <th>154</th>\n",
       "      <th>155</th>\n",
       "      <th>156</th>\n",
       "      <th>157</th>\n",
       "      <th>158</th>\n",
       "      <th>159</th>\n",
       "      <th>160</th>\n",
       "      <th>161</th>\n",
       "      <th>162</th>\n",
       "      <th>163</th>\n",
       "    </tr>\n",
       "  </thead>\n",
       "  <tbody>\n",
       "    <tr>\n",
       "      <th>1</th>\n",
       "      <td>Daily Visual Inspection</td>\n",
       "      <td>Lighting</td>\n",
       "      <td>Water Tank Levels</td>\n",
       "      <td>Water Quality</td>\n",
       "      <td>Chillers</td>\n",
       "      <td>Exhaust Fans</td>\n",
       "      <td>Fresh Air Fans</td>\n",
       "      <td>Pumps</td>\n",
       "      <td>Lifts</td>\n",
       "      <td>UPS</td>\n",
       "      <td>...</td>\n",
       "      <td>Lift machine room UPS (car emergency lights)</td>\n",
       "      <td>Lifts</td>\n",
       "      <td>Passenger lifts L1 to L8</td>\n",
       "      <td>Service lifts S1 &amp; S2</td>\n",
       "      <td>Parking lifts P1 to P3</td>\n",
       "      <td>MLCP lifts M1 &amp; M2</td>\n",
       "      <td>EARTH PITS</td>\n",
       "      <td>ALL EARTH PITS</td>\n",
       "      <td>ENERGY METER CALIBRATION</td>\n",
       "      <td>Dual source meter's</td>\n",
       "    </tr>\n",
       "    <tr>\n",
       "      <th>2</th>\n",
       "      <td>NaN</td>\n",
       "      <td>NaN</td>\n",
       "      <td>NaN</td>\n",
       "      <td>NaN</td>\n",
       "      <td>NaN</td>\n",
       "      <td>NaN</td>\n",
       "      <td>NaN</td>\n",
       "      <td>NaN</td>\n",
       "      <td>NaN</td>\n",
       "      <td>NaN</td>\n",
       "      <td>...</td>\n",
       "      <td>1KVA</td>\n",
       "      <td>NaN</td>\n",
       "      <td>NaN</td>\n",
       "      <td>NaN</td>\n",
       "      <td>NaN</td>\n",
       "      <td>NaN</td>\n",
       "      <td>NaN</td>\n",
       "      <td>NaN</td>\n",
       "      <td>NaN</td>\n",
       "      <td>NaN</td>\n",
       "    </tr>\n",
       "    <tr>\n",
       "      <th>3</th>\n",
       "      <td>NaN</td>\n",
       "      <td>NaN</td>\n",
       "      <td>NaN</td>\n",
       "      <td>NaN</td>\n",
       "      <td>NaN</td>\n",
       "      <td>NaN</td>\n",
       "      <td>NaN</td>\n",
       "      <td>NaN</td>\n",
       "      <td>NaN</td>\n",
       "      <td>NaN</td>\n",
       "      <td>...</td>\n",
       "      <td>NaN</td>\n",
       "      <td>NaN</td>\n",
       "      <td>NaN</td>\n",
       "      <td>NaN</td>\n",
       "      <td>NaN</td>\n",
       "      <td>NaN</td>\n",
       "      <td>NaN</td>\n",
       "      <td>NaN</td>\n",
       "      <td>NaN</td>\n",
       "      <td>NaN</td>\n",
       "    </tr>\n",
       "    <tr>\n",
       "      <th>4</th>\n",
       "      <td>NaN</td>\n",
       "      <td>NaN</td>\n",
       "      <td>NaN</td>\n",
       "      <td>NaN</td>\n",
       "      <td>NaN</td>\n",
       "      <td>NaN</td>\n",
       "      <td>NaN</td>\n",
       "      <td>NaN</td>\n",
       "      <td>NaN</td>\n",
       "      <td>NaN</td>\n",
       "      <td>...</td>\n",
       "      <td>NaN</td>\n",
       "      <td>NaN</td>\n",
       "      <td>AMC</td>\n",
       "      <td>AMC</td>\n",
       "      <td>AMC</td>\n",
       "      <td>AMC</td>\n",
       "      <td>NaN</td>\n",
       "      <td>NaN</td>\n",
       "      <td>NaN</td>\n",
       "      <td>NaN</td>\n",
       "    </tr>\n",
       "    <tr>\n",
       "      <th>5</th>\n",
       "      <td>Daily</td>\n",
       "      <td>Daily</td>\n",
       "      <td>Daily</td>\n",
       "      <td>Daily</td>\n",
       "      <td>Daily</td>\n",
       "      <td>Daily</td>\n",
       "      <td>Daily</td>\n",
       "      <td>Daily</td>\n",
       "      <td>Daily</td>\n",
       "      <td>Daily</td>\n",
       "      <td>...</td>\n",
       "      <td>Quarterly</td>\n",
       "      <td>NaN</td>\n",
       "      <td>Monthly</td>\n",
       "      <td>Monthly</td>\n",
       "      <td>Monthly</td>\n",
       "      <td>Monthly</td>\n",
       "      <td>NaN</td>\n",
       "      <td>YEARLY</td>\n",
       "      <td>NaN</td>\n",
       "      <td>YEARLY</td>\n",
       "    </tr>\n",
       "    <tr>\n",
       "      <th>6</th>\n",
       "      <td>1</td>\n",
       "      <td>1</td>\n",
       "      <td>1</td>\n",
       "      <td>1</td>\n",
       "      <td>1</td>\n",
       "      <td>1</td>\n",
       "      <td>1</td>\n",
       "      <td>1</td>\n",
       "      <td>1</td>\n",
       "      <td>1</td>\n",
       "      <td>...</td>\n",
       "      <td>NaN</td>\n",
       "      <td>NaN</td>\n",
       "      <td>NaN</td>\n",
       "      <td>NaN</td>\n",
       "      <td>NaN</td>\n",
       "      <td>NaN</td>\n",
       "      <td>NaN</td>\n",
       "      <td>NaN</td>\n",
       "      <td>NaN</td>\n",
       "      <td>NaN</td>\n",
       "    </tr>\n",
       "    <tr>\n",
       "      <th>7</th>\n",
       "      <td>1</td>\n",
       "      <td>1</td>\n",
       "      <td>1</td>\n",
       "      <td>1</td>\n",
       "      <td>1</td>\n",
       "      <td>1</td>\n",
       "      <td>1</td>\n",
       "      <td>1</td>\n",
       "      <td>1</td>\n",
       "      <td>1</td>\n",
       "      <td>...</td>\n",
       "      <td>NaN</td>\n",
       "      <td>NaN</td>\n",
       "      <td>NaN</td>\n",
       "      <td>NaN</td>\n",
       "      <td>NaN</td>\n",
       "      <td>NaN</td>\n",
       "      <td>NaN</td>\n",
       "      <td>NaN</td>\n",
       "      <td>NaN</td>\n",
       "      <td>NaN</td>\n",
       "    </tr>\n",
       "  </tbody>\n",
       "</table>\n",
       "<p>7 rows × 153 columns</p>\n",
       "</div>"
      ],
      "text/plain": [
       "                       8         9                  10             11   \\\n",
       "1  Daily Visual Inspection  Lighting  Water Tank Levels  Water Quality   \n",
       "2                      NaN       NaN                NaN            NaN   \n",
       "3                      NaN       NaN                NaN            NaN   \n",
       "4                      NaN       NaN                NaN            NaN   \n",
       "5                    Daily     Daily              Daily          Daily   \n",
       "6                        1         1                  1              1   \n",
       "7                        1         1                  1              1   \n",
       "\n",
       "        12            13              14     15     16     17   ...  \\\n",
       "1  Chillers  Exhaust Fans  Fresh Air Fans  Pumps  Lifts    UPS  ...   \n",
       "2       NaN           NaN             NaN    NaN    NaN    NaN  ...   \n",
       "3       NaN           NaN             NaN    NaN    NaN    NaN  ...   \n",
       "4       NaN           NaN             NaN    NaN    NaN    NaN  ...   \n",
       "5     Daily         Daily           Daily  Daily  Daily  Daily  ...   \n",
       "6         1             1               1      1      1      1  ...   \n",
       "7         1             1               1      1      1      1  ...   \n",
       "\n",
       "                                            154    155  \\\n",
       "1  Lift machine room UPS (car emergency lights)  Lifts   \n",
       "2                                          1KVA    NaN   \n",
       "3                                           NaN    NaN   \n",
       "4                                           NaN    NaN   \n",
       "5                                     Quarterly    NaN   \n",
       "6                                           NaN    NaN   \n",
       "7                                           NaN    NaN   \n",
       "\n",
       "                        156                    157                     158  \\\n",
       "1  Passenger lifts L1 to L8  Service lifts S1 & S2  Parking lifts P1 to P3   \n",
       "2                       NaN                    NaN                     NaN   \n",
       "3                       NaN                    NaN                     NaN   \n",
       "4                       AMC                    AMC                     AMC   \n",
       "5                   Monthly                Monthly                 Monthly   \n",
       "6                       NaN                    NaN                     NaN   \n",
       "7                       NaN                    NaN                     NaN   \n",
       "\n",
       "                  159         160             161                       162  \\\n",
       "1  MLCP lifts M1 & M2  EARTH PITS  ALL EARTH PITS  ENERGY METER CALIBRATION   \n",
       "2                 NaN         NaN             NaN                       NaN   \n",
       "3                 NaN         NaN             NaN                       NaN   \n",
       "4                 AMC         NaN             NaN                       NaN   \n",
       "5             Monthly         NaN          YEARLY                       NaN   \n",
       "6                 NaN         NaN             NaN                       NaN   \n",
       "7                 NaN         NaN             NaN                       NaN   \n",
       "\n",
       "                   163  \n",
       "1  Dual source meter's  \n",
       "2                  NaN  \n",
       "3                  NaN  \n",
       "4                  NaN  \n",
       "5               YEARLY  \n",
       "6                  NaN  \n",
       "7                  NaN  \n",
       "\n",
       "[7 rows x 153 columns]"
      ]
     },
     "execution_count": 36,
     "metadata": {},
     "output_type": "execute_result"
    }
   ],
   "source": [
    "list_of_df[1].sample(10)"
   ]
  },
  {
   "cell_type": "markdown",
   "metadata": {},
   "source": [
    "Converting to the workorder dataframe"
   ]
  },
  {
   "cell_type": "code",
   "execution_count": 37,
   "metadata": {},
   "outputs": [],
   "source": [
    "# creating a list of dataframes\n",
    "# similar to a list of all the data from each sheet\n",
    "df_workorder = []\n",
    "for i in range(len(list_of_df)):\n",
    "    title = list(list_of_df[i].iloc[0,:])\n",
    "    rating = list(list_of_df[i].iloc[1,:])\n",
    "    location = list(list_of_df[i].iloc[2,:])\n",
    "    amc = list(list_of_df[i].iloc[3,:])\n",
    "    frequency = list(list_of_df[i].iloc[4,:])\n",
    "    date = dates[i]\n",
    "    \n",
    "    workorder = {\"Title\":title,\n",
    "            \"Rating\":rating,\n",
    "            \"Location\":location,\n",
    "            \"AMC/Non AMC\":amc,\n",
    "            \"Frequency\":frequency,\n",
    "            \"Week Number\":date}\n",
    "    df_workorder.append(pd.DataFrame(workorder))\n",
    "    "
   ]
  },
  {
   "cell_type": "code",
   "execution_count": 17,
   "metadata": {},
   "outputs": [],
   "source": [
    "# to export the complete data into json files\n",
    "'''\n",
    "for i in range(len(list_of_df)):\n",
    "    df_workorder[i].to_json(path_or_buf =\"../json_data/\"+file.sheet_names[i]+\".json\" ,orient = 'records')\n",
    "'''"
   ]
  },
  {
   "cell_type": "code",
   "execution_count": null,
   "metadata": {},
   "outputs": [],
   "source": [
    "service_url = \"http://ec2-13-233-84-234.ap-south-1.compute.amazonaws.com:5000\"\n",
    "#service_url = \"http://127.0.0.1:5000\"\n",
    "sessionToken = \"0\"\n",
    "workOrderId = 0\n",
    "\n",
    "curlpostcmd = \"curl -i -X POST \"\n",
    "\n",
    "init_file = 0"
   ]
  },
  {
   "cell_type": "code",
   "execution_count": 27,
   "metadata": {},
   "outputs": [],
   "source": [
    "def workorder_create_df(df,i):\n",
    "        robj = 'workorder'\n",
    "        url = service_url + '/api/' + robj\n",
    "        data = df.to_dict('records')[i]\n",
    "        global sessionToken\n",
    "        header = {\n",
    "            \"sessionToken\": sessionToken\n",
    "        }\n",
    "\n",
    "        curlcmd = curlpostcmd + \" -H \" + \"\\'\" + 'sessionToken:' + header['sessionToken'] + \"\\'\"  +  \" -d \" + \"\\'\" + json.dumps(data) + \"\\'\" +  \" \" + url\n",
    "        log_curlcmd(curlcmd, \"Create workorder,having Title,Rating,Location,AMC,Frequency,Week Number\")\n",
    "        response = requests.post(url, json = data, headers = header)\n",
    "        assert(response.status_code == 201)\n",
    "        global workOrderId\n",
    "        workOrderId = response.json()[\"id\"]"
   ]
  },
  {
   "cell_type": "code",
   "execution_count": null,
   "metadata": {},
   "outputs": [],
   "source": [
    "for each_df in df_workorder:\n",
    "    for i in range(len(each_df):\n",
    "                   workorder_create_df(each_df,i)"
   ]
  },
  {
   "cell_type": "code",
   "execution_count": 18,
   "metadata": {},
   "outputs": [
    {
     "name": "stdout",
     "output_type": "stream",
     "text": [
      "Done\n"
     ]
    }
   ],
   "source": [
    "print(\"Done\")"
   ]
  }
 ],
 "metadata": {
  "kernelspec": {
   "display_name": "Python 3",
   "language": "python",
   "name": "python3"
  },
  "language_info": {
   "codemirror_mode": {
    "name": "ipython",
    "version": 3
   },
   "file_extension": ".py",
   "mimetype": "text/x-python",
   "name": "python",
   "nbconvert_exporter": "python",
   "pygments_lexer": "ipython3",
   "version": "3.7.3"
  }
 },
 "nbformat": 4,
 "nbformat_minor": 2
}
