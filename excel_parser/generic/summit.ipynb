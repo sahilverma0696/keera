{
 "cells": [
  {
   "cell_type": "markdown",
   "metadata": {},
   "source": [
    "PLAN OF ATTACK:\n",
    "    Slice the null rows<br>\n",
    "    Slice the useful matrix<br>\n",
    "    make two dfs <br>\n",
    "        one holding the activites <br>\n",
    "        second holding the frequency values"
   ]
  },
  {
   "cell_type": "code",
   "execution_count": null,
   "metadata": {},
   "outputs": [],
   "source": [
    "import pandas as pd\n",
    "import numpy as np"
   ]
  },
  {
   "cell_type": "code",
   "execution_count": null,
   "metadata": {},
   "outputs": [],
   "source": [
    "file = pd.ExcelFile(\"../excel_files/Summit 52 week PPM Schedule-2019.xlsx\")"
   ]
  },
  {
   "cell_type": "code",
   "execution_count": null,
   "metadata": {},
   "outputs": [],
   "source": [
    "df = pd.read_excel(file,sheet_name=file.sheet_names[0],header = None)"
   ]
  },
  {
   "cell_type": "code",
   "execution_count": null,
   "metadata": {},
   "outputs": [],
   "source": [
    "# drops the complete null rows and columns in a df\n",
    "def df_dropna(df):\n",
    "    df.dropna(axis=0,how=\"all\",inplace=True)\n",
    "    df.dropna(axis=1,how=\"all\",inplace=True)\n"
   ]
  },
  {
   "cell_type": "code",
   "execution_count": null,
   "metadata": {},
   "outputs": [],
   "source": [
    "df_dropna(df)"
   ]
  },
  {
   "cell_type": "code",
   "execution_count": null,
   "metadata": {},
   "outputs": [],
   "source": [
    "df"
   ]
  },
  {
   "cell_type": "code",
   "execution_count": null,
   "metadata": {},
   "outputs": [],
   "source": [
    "# Mapfunction to convert all the string in df to lowercase and keeping the other types same\n",
    "df = df.applymap(lambda s:s.lower() if type(s) == str else s)"
   ]
  },
  {
   "cell_type": "code",
   "execution_count": null,
   "metadata": {},
   "outputs": [],
   "source": [
    "# setting the index of df back from 0\n",
    "def reset_index(df):\n",
    "    df.reset_index(inplace=True)\n",
    "    df.drop(df.columns[0], axis=1,inplace=True)"
   ]
  },
  {
   "cell_type": "code",
   "execution_count": null,
   "metadata": {},
   "outputs": [],
   "source": [
    "#setting the header, by the first row\n",
    "def set_column(df):\n",
    "    df.columns = df.iloc[0]\n",
    "    df.drop(df.index[0],inplace=True)"
   ]
  },
  {
   "cell_type": "code",
   "execution_count": null,
   "metadata": {},
   "outputs": [],
   "source": [
    "# function to slice the header having the logo and other unuseful information\n",
    "def upper_mtx_slice(df,header):\n",
    "    x =df.iloc[:,0].str.find(header.lower()) # find() returns complete index of series, searches in first column of df\n",
    "    x=int(x.index[x==0][0]) # find the true index of value and returns int \n",
    "    df =df.iloc[x:,:] # slicing the df before the header row\n",
    "    return df"
   ]
  },
  {
   "cell_type": "code",
   "execution_count": null,
   "metadata": {},
   "outputs": [],
   "source": [
    "# function to get first occurance coordinates (row,column) of a string in a dataframe\n",
    "def coordinates(df,term):\n",
    "    for i in range(len(df.columns)):\n",
    "        x=df[df.columns[i]].str.find(term)\n",
    "        if(len(x.index[x==0])==0):\n",
    "            pass\n",
    "        else:\n",
    "            x=int(x.index[x==0][0])\n",
    "            return (x,i)  "
   ]
  },
  {
   "cell_type": "code",
   "execution_count": null,
   "metadata": {},
   "outputs": [],
   "source": [
    "# method to return all cordinates of a term occuring in df, state: underprocess\n",
    "def coordinates_reccuring(df,term):\n",
    "    c_list =[]\n",
    "    for i in range(len(df.columns)):\n",
    "        x=df[df.columns[i]].str.find(term)\n",
    "        if(len(x.index[x==0])==0):\n",
    "            pass\n",
    "        else:\n",
    "            x=int(x.index[x==0][0])\n",
    "            c_list.append((x,i))\n",
    "    return c_list"
   ]
  },
  {
   "cell_type": "code",
   "execution_count": null,
   "metadata": {},
   "outputs": [],
   "source": [
    "df =upper_mtx_slice(df,\"activity description\")"
   ]
  },
  {
   "cell_type": "code",
   "execution_count": null,
   "metadata": {
    "scrolled": true
   },
   "outputs": [],
   "source": [
    "df"
   ]
  },
  {
   "cell_type": "code",
   "execution_count": null,
   "metadata": {},
   "outputs": [],
   "source": [
    "reset_index(df)"
   ]
  },
  {
   "cell_type": "code",
   "execution_count": null,
   "metadata": {},
   "outputs": [],
   "source": [
    "df"
   ]
  },
  {
   "cell_type": "code",
   "execution_count": null,
   "metadata": {},
   "outputs": [],
   "source": [
    "freq_c =coordinates(df,'frequency')"
   ]
  },
  {
   "cell_type": "code",
   "execution_count": null,
   "metadata": {},
   "outputs": [],
   "source": [
    "print(freq_c)"
   ]
  },
  {
   "cell_type": "code",
   "execution_count": null,
   "metadata": {},
   "outputs": [],
   "source": [
    "df_freq = df.iloc[freq_c[0]:,freq_c[1]+1:]"
   ]
  },
  {
   "cell_type": "code",
   "execution_count": null,
   "metadata": {},
   "outputs": [],
   "source": [
    "df_freq.head(10)"
   ]
  },
  {
   "cell_type": "code",
   "execution_count": null,
   "metadata": {},
   "outputs": [],
   "source": [
    "df_act = df.iloc[0:,0:freq_c[1]+1]"
   ]
  },
  {
   "cell_type": "code",
   "execution_count": null,
   "metadata": {},
   "outputs": [],
   "source": [
    "df_act.head(10)"
   ]
  },
  {
   "cell_type": "code",
   "execution_count": null,
   "metadata": {},
   "outputs": [],
   "source": [
    "set_column(df_act)"
   ]
  },
  {
   "cell_type": "code",
   "execution_count": null,
   "metadata": {},
   "outputs": [],
   "source": [
    "set_column(df_freq)"
   ]
  },
  {
   "cell_type": "code",
   "execution_count": null,
   "metadata": {},
   "outputs": [],
   "source": [
    "for i in range(1,df_freq.shape[1]+1):\n",
    "      df_freq.loc[df_freq[i]==df_freq[i],i]=i\n",
    "work_num = [[ j for j in i if j ==j] for i in np.array(df_freq) ]"
   ]
  },
  {
   "cell_type": "code",
   "execution_count": null,
   "metadata": {},
   "outputs": [],
   "source": [
    "df_act[\"week number\"] = work_num"
   ]
  },
  {
   "cell_type": "code",
   "execution_count": null,
   "metadata": {},
   "outputs": [],
   "source": [
    "df_act.loc[df_act.frequency!=df_act.frequency ,'week number'] = \"---\"\n",
    "df_act.loc[df_act.frequency=='daily' ,'week number'] = \"D\"\n",
    "df_act.loc[df_act.frequency=='weekly' ,'week number'] = \"W\""
   ]
  },
  {
   "cell_type": "code",
   "execution_count": null,
   "metadata": {},
   "outputs": [],
   "source": [
    "df_act.to_excel(\"../excel_files/workorder/\"+file.sheet_names[0]+\".xlsx\")"
   ]
  },
  {
   "cell_type": "markdown",
   "metadata": {},
   "source": []
  }
 ],
 "metadata": {
  "kernelspec": {
   "display_name": "Python 3",
   "language": "python",
   "name": "python3"
  },
  "language_info": {
   "codemirror_mode": {
    "name": "ipython",
    "version": 3
   },
   "file_extension": ".py",
   "mimetype": "text/x-python",
   "name": "python",
   "nbconvert_exporter": "python",
   "pygments_lexer": "ipython3",
   "version": "3.7.3"
  }
 },
 "nbformat": 4,
 "nbformat_minor": 2
}
